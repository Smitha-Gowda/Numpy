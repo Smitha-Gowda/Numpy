{
  "nbformat": 4,
  "nbformat_minor": 0,
  "metadata": {
    "colab": {
      "provenance": []
    },
    "kernelspec": {
      "name": "python3",
      "display_name": "Python 3"
    },
    "language_info": {
      "name": "python"
    }
  },
  "cells": [
    {
      "cell_type": "markdown",
      "source": [
        "1. data creation : create a suitable arrays to represent students,subjects,amd their marks\n"
      ],
      "metadata": {
        "id": "8CdrkRF7bMsv"
      }
    },
    {
      "cell_type": "code",
      "source": [
        "impor],[66,89,41,98],[76,80,67,95]])\n",
        "sclt numpy as np\n",
        "scl = np.array([[83,90,79,87"
      ],
      "metadata": {
        "colab": {
          "base_uri": "https://localhost:8080/"
        },
        "id": "U2oZ8p9XbQas",
        "outputId": "48334099-4a96-4555-be94-65d5cc3b7949"
      },
      "execution_count": null,
      "outputs": [
        {
          "output_type": "execute_result",
          "data": {
            "text/plain": [
              "array([[83, 90, 79, 87],\n",
              "       [66, 89, 41, 98],\n",
              "       [76, 80, 67, 95]])"
            ]
          },
          "metadata": {},
          "execution_count": 57
        }
      ]
    },
    {
      "cell_type": "markdown",
      "source": [
        "2. data exploration: explore the properties of these arrays ,such as their dimensions,size,and structure\n",
        "\n"
      ],
      "metadata": {
        "id": "JE1TDXkRbeOy"
      }
    },
    {
      "cell_type": "code",
      "source": [
        "scl.shape\n",
        "scl.ndim\n",
        "scl.size"
      ],
      "metadata": {
        "colab": {
          "base_uri": "https://localhost:8080/"
        },
        "id": "_TaR5-cNbi0n",
        "outputId": "572c302c-3010-49ef-dbd7-0f2a73bda794"
      },
      "execution_count": null,
      "outputs": [
        {
          "output_type": "execute_result",
          "data": {
            "text/plain": [
              "12"
            ]
          },
          "metadata": {},
          "execution_count": 58
        }
      ]
    },
    {
      "cell_type": "markdown",
      "source": [
        "3. data transformation : perform necessary reshaping and regognising of the data to suit various operations.\n",
        "\n"
      ],
      "metadata": {
        "id": "Q4j24gS7brrM"
      }
    },
    {
      "cell_type": "code",
      "source": [
        "scl.T"
      ],
      "metadata": {
        "colab": {
          "base_uri": "https://localhost:8080/"
        },
        "id": "UA8MR81yh_LH",
        "outputId": "2123cba6-1619-470e-a811-434a48841fc2"
      },
      "execution_count": null,
      "outputs": [
        {
          "output_type": "execute_result",
          "data": {
            "text/plain": [
              "array([[83, 66, 76],\n",
              "       [90, 89, 80],\n",
              "       [79, 41, 67],\n",
              "       [87, 98, 95]])"
            ]
          },
          "metadata": {},
          "execution_count": 59
        }
      ]
    },
    {
      "cell_type": "markdown",
      "source": [
        "4. Data combination: merge or split arrays to stimulate adding new students ,new subjects,or recognaising the datasets"
      ],
      "metadata": {
        "id": "u791sjdNcauh"
      }
    },
    {
      "cell_type": "code",
      "source": [
        "newcol = np.array([[87],[45],[98]])\n",
        "scl = np.hstack((scl,newcol))\n",
        "scl"
      ],
      "metadata": {
        "colab": {
          "base_uri": "https://localhost:8080/"
        },
        "id": "lCBQGOYyjaWu",
        "outputId": "ec014503-62d5-45fd-c9f9-fbbb4a215618"
      },
      "execution_count": null,
      "outputs": [
        {
          "output_type": "execute_result",
          "data": {
            "text/plain": [
              "array([[83, 90, 79, 87, 87],\n",
              "       [66, 89, 41, 98, 45],\n",
              "       [76, 80, 67, 95, 98]])"
            ]
          },
          "metadata": {},
          "execution_count": 60
        }
      ]
    },
    {
      "cell_type": "markdown",
      "source": [
        "5.data modification: apply operations to update marks,remove data,or identify unique information"
      ],
      "metadata": {
        "id": "SkIc1azhcpRP"
      }
    },
    {
      "cell_type": "code",
      "source": [
        "student = scl[0]\n",
        "subject = scl[1]\n",
        "marks = scl[2]\n",
        "\n",
        "marks[0]=87\n",
        "marks[3]=76.4\n",
        "\n",
        "np.delete(subject,4)\n",
        "\n",
        "subject\n",
        "\n",
        "marks\n",
        "\n",
        "\n"
      ],
      "metadata": {
        "id": "CO-kPKjyc3P5",
        "colab": {
          "base_uri": "https://localhost:8080/"
        },
        "outputId": "93cb45e5-681a-4ac9-e137-6ea124545e10"
      },
      "execution_count": null,
      "outputs": [
        {
          "output_type": "execute_result",
          "data": {
            "text/plain": [
              "array([87, 80, 67, 76, 98])"
            ]
          },
          "metadata": {},
          "execution_count": 61
        }
      ]
    },
    {
      "cell_type": "markdown",
      "source": [
        "6.data type handling: demonstrate how the same data can exist in different,data types and how changes affect results"
      ],
      "metadata": {
        "id": "7swB7k4qc3tp"
      }
    },
    {
      "cell_type": "code",
      "source": [
        "data = np.array([student,subject,marks])\n",
        "data"
      ],
      "metadata": {
        "id": "Kx5EwQUPdJmI",
        "colab": {
          "base_uri": "https://localhost:8080/"
        },
        "outputId": "6e6d38fa-8ff3-4cf4-df55-f4f7cbbb3e02"
      },
      "execution_count": null,
      "outputs": [
        {
          "output_type": "execute_result",
          "data": {
            "text/plain": [
              "array([[83, 90, 79, 87, 87],\n",
              "       [66, 89, 41, 98, 45],\n",
              "       [87, 80, 67, 76, 98]])"
            ]
          },
          "metadata": {},
          "execution_count": 62
        }
      ]
    },
    {
      "cell_type": "markdown",
      "source": [
        "7.copy and view behaviour: show the difference between creating a full copy of an array and creating a view of the same data."
      ],
      "metadata": {
        "id": "tQRyxaQ0dJ7e"
      }
    },
    {
      "cell_type": "code",
      "source": [
        "nscl=scl.copy()\n",
        "nscl[0][4]=108\n",
        "nscl\n",
        "'''array([[ 81,  82,  83,  84,  85,  86,  87],\n",
        "       [87, 67, 56, 78, 90, 97, 99],\n",
        "       [  71,   76,   88,   57,   46,   93,   47]])'''\n",
        "scl\n",
        "'''array([[ 11,  12,  13,  14,  17,  18,  19],\n",
        "       [65, 76, 35,54, 98, 97, 87],\n",
        "       [  98,   55,   44,   33,   22,   87,   98]])'''\n",
        "\n",
        "scl\n",
        "\n"
      ],
      "metadata": {
        "colab": {
          "base_uri": "https://localhost:8080/"
        },
        "id": "WnuXCp4fi-LC",
        "outputId": "923d5a1b-f2a3-4acf-99c8-16e67b28e1b0"
      },
      "execution_count": null,
      "outputs": [
        {
          "output_type": "execute_result",
          "data": {
            "text/plain": [
              "array([[83, 90, 79, 87, 87],\n",
              "       [66, 89, 41, 98, 45],\n",
              "       [87, 80, 67, 76, 98]])"
            ]
          },
          "metadata": {},
          "execution_count": 63
        }
      ]
    },
    {
      "cell_type": "code",
      "source": [
        "vscl = scl.view()\n",
        "vscl[1][4]=8978\n",
        "vscl\n",
        "'''array([[ 81,  82,  83,  84,  85,  86,  87],\n",
        "       [87, 67, 56, 78, 90, 97, 99],\n",
        "       [  71,   76,   88,   57,   46,   93,   47]])'''\n",
        "scl\n",
        "'''array([[ 11,  12,  13,  14,  17,  18,  19],\n",
        "       [65, 76, 35,54, 98, 97, 87],\n",
        "       [  98,   55,   44,   33,   22,   87,   98]])'''\n",
        "scl"
      ],
      "metadata": {
        "id": "wL9yOWwAdgiC",
        "colab": {
          "base_uri": "https://localhost:8080/"
        },
        "outputId": "5ab06f0b-484b-43be-a09d-aafda77e3539"
      },
      "execution_count": null,
      "outputs": [
        {
          "output_type": "execute_result",
          "data": {
            "text/plain": [
              "array([[  83,   90,   79,   87,   87],\n",
              "       [  66,   89,   41,   98, 8978],\n",
              "       [  87,   80,   67,   76,   98]])"
            ]
          },
          "metadata": {},
          "execution_count": 64
        }
      ]
    }
  ]
}